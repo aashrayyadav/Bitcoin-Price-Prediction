{
 "cells": [
  {
   "cell_type": "code",
   "execution_count": 1,
   "metadata": {
    "collapsed": true
   },
   "outputs": [],
   "source": [
    "import requests\n",
    "import bs4 as bs\n",
    "import pandas as pd\n",
    "import numpy as np\n",
    "import warnings\n",
    "import re\n",
    "import datetime\n",
    "import time\n",
    "warnings.filterwarnings('ignore')\n",
    "\n",
    "import matplotlib.pyplot as plt\n",
    "%matplotlib inline\n",
    "from __future__ import print_function, division, absolute_import #make compatible with Python 2 and Python 3"
   ]
  },
  {
   "cell_type": "code",
   "execution_count": 2,
   "metadata": {},
   "outputs": [
    {
     "name": "stdout",
     "output_type": "stream",
     "text": [
      "25 pages completed!\n",
      "50 pages completed!\n",
      "75 pages completed!\n",
      "100 pages completed!\n",
      "125 pages completed!\n",
      "150 pages completed!\n",
      "175 pages completed!\n",
      "200 pages completed!\n",
      "225 pages completed!\n"
     ]
    }
   ],
   "source": [
    "#Scraping code for InvestFeed\n",
    "record = pd.DataFrame()\n",
    "for i in range(0,241):\n",
    "    post=[]\n",
    "    date=[]\n",
    "    url = \"https://www.investfeed.com/currency/BTC?page=\"+str(i+1)\n",
    "    soup = bs.BeautifulSoup(requests.get(url).text, \"html.parser\")\n",
    "    content = soup.find_all('div', attrs={'class': 'post-content'})\n",
    "    date_time = soup.find_all('div',attrs={'class':'floated-right'})\n",
    "    for x in range(len(content)):\n",
    "        post.append(re.sub(r'\\s+', ' ', content[x].text))\n",
    "        date.append(re.sub(r'\\s+',' ',date_time[x].text))\n",
    "    if (i+1)%25 == 0:\n",
    "        print('{} pages completed!'.format(i+1))\n",
    "    t1 = pd.Series(date)\n",
    "    t2 = pd.Series(post)\n",
    "    temp_record = pd.concat([t1,t2],axis=1)\n",
    "    record = pd.concat([record,temp_record]).reset_index(drop=True)"
   ]
  },
  {
   "cell_type": "code",
   "execution_count": 3,
   "metadata": {},
   "outputs": [
    {
     "data": {
      "text/plain": [
       "(2410, 2)"
      ]
     },
     "execution_count": 3,
     "metadata": {},
     "output_type": "execute_result"
    }
   ],
   "source": [
    "record.shape"
   ]
  },
  {
   "cell_type": "code",
   "execution_count": 4,
   "metadata": {},
   "outputs": [
    {
     "data": {
      "text/html": [
       "<div>\n",
       "<style>\n",
       "    .dataframe thead tr:only-child th {\n",
       "        text-align: right;\n",
       "    }\n",
       "\n",
       "    .dataframe thead th {\n",
       "        text-align: left;\n",
       "    }\n",
       "\n",
       "    .dataframe tbody tr th {\n",
       "        vertical-align: top;\n",
       "    }\n",
       "</style>\n",
       "<table border=\"1\" class=\"dataframe\">\n",
       "  <thead>\n",
       "    <tr style=\"text-align: right;\">\n",
       "      <th></th>\n",
       "      <th>0</th>\n",
       "      <th>1</th>\n",
       "    </tr>\n",
       "  </thead>\n",
       "  <tbody>\n",
       "    <tr>\n",
       "      <th>0</th>\n",
       "      <td>December 3, 2017, 11:37 pm</td>\n",
       "      <td>Bitcoin hit 11874 for new ATH! http://ifeed.i...</td>\n",
       "    </tr>\n",
       "    <tr>\n",
       "      <th>1</th>\n",
       "      <td>December 3, 2017, 11:36 pm</td>\n",
       "      <td>Binance now trading $PPT and $ADA . Binance i...</td>\n",
       "    </tr>\n",
       "    <tr>\n",
       "      <th>2</th>\n",
       "      <td>December 3, 2017, 11:32 pm</td>\n",
       "      <td>Bitcoin rollercoaster continues http://ifeed....</td>\n",
       "    </tr>\n",
       "    <tr>\n",
       "      <th>3</th>\n",
       "      <td>December 3, 2017, 11:32 pm</td>\n",
       "      <td>McAfee ups the Ante! http://ifeed.io/p5hg2 #b...</td>\n",
       "    </tr>\n",
       "    <tr>\n",
       "      <th>4</th>\n",
       "      <td>December 3, 2017, 10:38 pm</td>\n",
       "      <td>#BTC that's my Boy! http://ifeed.io/EXPnp $11...</td>\n",
       "    </tr>\n",
       "    <tr>\n",
       "      <th>5</th>\n",
       "      <td>December 3, 2017, 8:26 pm</td>\n",
       "      <td>Bitcoin is often compared to gold, but gold’s...</td>\n",
       "    </tr>\n",
       "    <tr>\n",
       "      <th>6</th>\n",
       "      <td>December 3, 2017, 7:07 pm</td>\n",
       "      <td>Hello everybody check out my new video on why...</td>\n",
       "    </tr>\n",
       "    <tr>\n",
       "      <th>7</th>\n",
       "      <td>December 3, 2017, 5:54 pm</td>\n",
       "      <td>Important date to look out for. Bitcoin futur...</td>\n",
       "    </tr>\n",
       "    <tr>\n",
       "      <th>8</th>\n",
       "      <td>December 3, 2017, 5:33 pm</td>\n",
       "      <td>Is Bitcoin a bubble? If mainstream news sourc...</td>\n",
       "    </tr>\n",
       "    <tr>\n",
       "      <th>9</th>\n",
       "      <td>December 3, 2017, 5:21 pm</td>\n",
       "      <td>Posted super late yesterday so going to re-po...</td>\n",
       "    </tr>\n",
       "    <tr>\n",
       "      <th>10</th>\n",
       "      <td>December 3, 2017, 2:30 pm</td>\n",
       "      <td>And once again $BTC goin' up $BCH goin' up $E...</td>\n",
       "    </tr>\n",
       "    <tr>\n",
       "      <th>11</th>\n",
       "      <td>December 3, 2017, 1:53 pm</td>\n",
       "      <td>http://ifeed.io/iEvA3 sign up for #hexabot sw...</td>\n",
       "    </tr>\n",
       "    <tr>\n",
       "      <th>12</th>\n",
       "      <td>December 3, 2017, 1:03 pm</td>\n",
       "      <td>Boxmining's latest video discussing if #Bitco...</td>\n",
       "    </tr>\n",
       "    <tr>\n",
       "      <th>13</th>\n",
       "      <td>December 3, 2017, 11:09 am</td>\n",
       "      <td>Nasdaq to join the rush to trade bitcoin futu...</td>\n",
       "    </tr>\n",
       "    <tr>\n",
       "      <th>14</th>\n",
       "      <td>December 3, 2017, 5:27 am</td>\n",
       "      <td>Making a new series for the new people in cry...</td>\n",
       "    </tr>\n",
       "    <tr>\n",
       "      <th>15</th>\n",
       "      <td>December 3, 2017, 5:19 am</td>\n",
       "      <td>Crypto social #Airdrop http://ifeed.io/AYJ5Bl...</td>\n",
       "    </tr>\n",
       "    <tr>\n",
       "      <th>16</th>\n",
       "      <td>December 3, 2017, 4:53 am</td>\n",
       "      <td>1300$ #Airdrops - http://ifeed.io/FEqty 1000G...</td>\n",
       "    </tr>\n",
       "    <tr>\n",
       "      <th>17</th>\n",
       "      <td>December 2, 2017, 11:20 pm</td>\n",
       "      <td>$BTC Probably by favorite segment yet! : http...</td>\n",
       "    </tr>\n",
       "    <tr>\n",
       "      <th>18</th>\n",
       "      <td>December 2, 2017, 8:27 pm</td>\n",
       "      <td>Option for #btc is a correction to around 800...</td>\n",
       "    </tr>\n",
       "    <tr>\n",
       "      <th>19</th>\n",
       "      <td>December 2, 2017, 8:15 pm</td>\n",
       "      <td>MASS token price is rising. Join the presale....</td>\n",
       "    </tr>\n",
       "    <tr>\n",
       "      <th>20</th>\n",
       "      <td>December 2, 2017, 7:30 pm</td>\n",
       "      <td>Need #BTC to go down I want more... I am goin...</td>\n",
       "    </tr>\n",
       "    <tr>\n",
       "      <th>21</th>\n",
       "      <td>December 2, 2017, 7:02 pm</td>\n",
       "      <td>Join the ICO and get some EXTRA coins! I publ...</td>\n",
       "    </tr>\n",
       "    <tr>\n",
       "      <th>22</th>\n",
       "      <td>December 2, 2017, 3:41 pm</td>\n",
       "      <td>Real Estate on the blockchain?! (tokenized ow...</td>\n",
       "    </tr>\n",
       "    <tr>\n",
       "      <th>23</th>\n",
       "      <td>December 2, 2017, 3:36 pm</td>\n",
       "      <td>In case u have been under a pile of #BTC bedr...</td>\n",
       "    </tr>\n",
       "    <tr>\n",
       "      <th>24</th>\n",
       "      <td>December 2, 2017, 2:53 pm</td>\n",
       "      <td>Ideally, from here, we would like $BTC to hol...</td>\n",
       "    </tr>\n",
       "  </tbody>\n",
       "</table>\n",
       "</div>"
      ],
      "text/plain": [
       "                               0  \\\n",
       "0    December 3, 2017, 11:37 pm    \n",
       "1    December 3, 2017, 11:36 pm    \n",
       "2    December 3, 2017, 11:32 pm    \n",
       "3    December 3, 2017, 11:32 pm    \n",
       "4    December 3, 2017, 10:38 pm    \n",
       "5     December 3, 2017, 8:26 pm    \n",
       "6     December 3, 2017, 7:07 pm    \n",
       "7     December 3, 2017, 5:54 pm    \n",
       "8     December 3, 2017, 5:33 pm    \n",
       "9     December 3, 2017, 5:21 pm    \n",
       "10    December 3, 2017, 2:30 pm    \n",
       "11    December 3, 2017, 1:53 pm    \n",
       "12    December 3, 2017, 1:03 pm    \n",
       "13   December 3, 2017, 11:09 am    \n",
       "14    December 3, 2017, 5:27 am    \n",
       "15    December 3, 2017, 5:19 am    \n",
       "16    December 3, 2017, 4:53 am    \n",
       "17   December 2, 2017, 11:20 pm    \n",
       "18    December 2, 2017, 8:27 pm    \n",
       "19    December 2, 2017, 8:15 pm    \n",
       "20    December 2, 2017, 7:30 pm    \n",
       "21    December 2, 2017, 7:02 pm    \n",
       "22    December 2, 2017, 3:41 pm    \n",
       "23    December 2, 2017, 3:36 pm    \n",
       "24    December 2, 2017, 2:53 pm    \n",
       "\n",
       "                                                    1  \n",
       "0    Bitcoin hit 11874 for new ATH! http://ifeed.i...  \n",
       "1    Binance now trading $PPT and $ADA . Binance i...  \n",
       "2    Bitcoin rollercoaster continues http://ifeed....  \n",
       "3    McAfee ups the Ante! http://ifeed.io/p5hg2 #b...  \n",
       "4    #BTC that's my Boy! http://ifeed.io/EXPnp $11...  \n",
       "5    Bitcoin is often compared to gold, but gold’s...  \n",
       "6    Hello everybody check out my new video on why...  \n",
       "7    Important date to look out for. Bitcoin futur...  \n",
       "8    Is Bitcoin a bubble? If mainstream news sourc...  \n",
       "9    Posted super late yesterday so going to re-po...  \n",
       "10   And once again $BTC goin' up $BCH goin' up $E...  \n",
       "11   http://ifeed.io/iEvA3 sign up for #hexabot sw...  \n",
       "12   Boxmining's latest video discussing if #Bitco...  \n",
       "13   Nasdaq to join the rush to trade bitcoin futu...  \n",
       "14   Making a new series for the new people in cry...  \n",
       "15   Crypto social #Airdrop http://ifeed.io/AYJ5Bl...  \n",
       "16   1300$ #Airdrops - http://ifeed.io/FEqty 1000G...  \n",
       "17   $BTC Probably by favorite segment yet! : http...  \n",
       "18   Option for #btc is a correction to around 800...  \n",
       "19   MASS token price is rising. Join the presale....  \n",
       "20   Need #BTC to go down I want more... I am goin...  \n",
       "21   Join the ICO and get some EXTRA coins! I publ...  \n",
       "22   Real Estate on the blockchain?! (tokenized ow...  \n",
       "23   In case u have been under a pile of #BTC bedr...  \n",
       "24   Ideally, from here, we would like $BTC to hol...  "
      ]
     },
     "execution_count": 4,
     "metadata": {},
     "output_type": "execute_result"
    }
   ],
   "source": [
    "record.head(25)"
   ]
  },
  {
   "cell_type": "code",
   "execution_count": 5,
   "metadata": {
    "collapsed": true
   },
   "outputs": [],
   "source": [
    "#record = record.drop(record[record.index > 2264].index) #Elements beyond this had random content. 2264 captures all posts."
   ]
  },
  {
   "cell_type": "code",
   "execution_count": 6,
   "metadata": {
    "collapsed": true
   },
   "outputs": [],
   "source": [
    "record = record.rename(columns = {0:'Date',1:'Post'})"
   ]
  },
  {
   "cell_type": "code",
   "execution_count": 7,
   "metadata": {
    "collapsed": true
   },
   "outputs": [],
   "source": [
    "record['Date'] = pd.to_datetime(record['Date']).dt.date #Converting from str to datetime obj and retaining just the dates"
   ]
  },
  {
   "cell_type": "code",
   "execution_count": 8,
   "metadata": {
    "collapsed": true
   },
   "outputs": [],
   "source": [
    "record = record.iloc[23:].reset_index(drop=True) #Prices unavailable for Novmeber 30th"
   ]
  },
  {
   "cell_type": "code",
   "execution_count": 9,
   "metadata": {
    "collapsed": true
   },
   "outputs": [],
   "source": [
    "col_names = ['Date','Price']\n",
    "btc = pd.read_csv('btc_price.csv',header=None,names=col_names)"
   ]
  },
  {
   "cell_type": "code",
   "execution_count": 10,
   "metadata": {},
   "outputs": [
    {
     "name": "stdout",
     "output_type": "stream",
     "text": [
      "(365, 2)\n"
     ]
    },
    {
     "data": {
      "text/html": [
       "<div>\n",
       "<style>\n",
       "    .dataframe thead tr:only-child th {\n",
       "        text-align: right;\n",
       "    }\n",
       "\n",
       "    .dataframe thead th {\n",
       "        text-align: left;\n",
       "    }\n",
       "\n",
       "    .dataframe tbody tr th {\n",
       "        vertical-align: top;\n",
       "    }\n",
       "</style>\n",
       "<table border=\"1\" class=\"dataframe\">\n",
       "  <thead>\n",
       "    <tr style=\"text-align: right;\">\n",
       "      <th></th>\n",
       "      <th>Date</th>\n",
       "      <th>Price</th>\n",
       "    </tr>\n",
       "  </thead>\n",
       "  <tbody>\n",
       "    <tr>\n",
       "      <th>0</th>\n",
       "      <td>2016-11-30 00:00:00</td>\n",
       "      <td>742.696762</td>\n",
       "    </tr>\n",
       "    <tr>\n",
       "      <th>1</th>\n",
       "      <td>2016-12-01 00:00:00</td>\n",
       "      <td>752.246125</td>\n",
       "    </tr>\n",
       "    <tr>\n",
       "      <th>2</th>\n",
       "      <td>2016-12-02 00:00:00</td>\n",
       "      <td>772.437250</td>\n",
       "    </tr>\n",
       "    <tr>\n",
       "      <th>3</th>\n",
       "      <td>2016-12-03 00:00:00</td>\n",
       "      <td>764.339625</td>\n",
       "    </tr>\n",
       "    <tr>\n",
       "      <th>4</th>\n",
       "      <td>2016-12-04 00:00:00</td>\n",
       "      <td>764.816250</td>\n",
       "    </tr>\n",
       "  </tbody>\n",
       "</table>\n",
       "</div>"
      ],
      "text/plain": [
       "                  Date       Price\n",
       "0  2016-11-30 00:00:00  742.696762\n",
       "1  2016-12-01 00:00:00  752.246125\n",
       "2  2016-12-02 00:00:00  772.437250\n",
       "3  2016-12-03 00:00:00  764.339625\n",
       "4  2016-12-04 00:00:00  764.816250"
      ]
     },
     "execution_count": 10,
     "metadata": {},
     "output_type": "execute_result"
    }
   ],
   "source": [
    "print(btc.shape)\n",
    "btc.head()"
   ]
  },
  {
   "cell_type": "code",
   "execution_count": 11,
   "metadata": {
    "collapsed": true
   },
   "outputs": [],
   "source": [
    "#Setting labels for the Bitcoin prices to perform Sentiment Analysis\n",
    "label=[]\n",
    "for i in range(1,btc.shape[0]):\n",
    "    if (btc.iat[i,1]>btc.iat[i-1,1]):\n",
    "        btc.loc[btc.index[i],'Sentiment']=1\n",
    "    else:\n",
    "        btc.loc[btc.index[i],'Sentiment']=0\n",
    "btc.loc[btc.index[0],'Sentiment']=0 #To match indices with btc. This false value will anyway go away when we trim BTC to match record df.\n",
    "btc['Sentiment'] = btc['Sentiment'].astype(int)"
   ]
  },
  {
   "cell_type": "code",
   "execution_count": 12,
   "metadata": {
    "collapsed": true
   },
   "outputs": [],
   "source": [
    "btc['Date'] = pd.to_datetime(btc['Date']).dt.date"
   ]
  },
  {
   "cell_type": "code",
   "execution_count": 13,
   "metadata": {},
   "outputs": [
    {
     "data": {
      "text/html": [
       "<div>\n",
       "<style>\n",
       "    .dataframe thead tr:only-child th {\n",
       "        text-align: right;\n",
       "    }\n",
       "\n",
       "    .dataframe thead th {\n",
       "        text-align: left;\n",
       "    }\n",
       "\n",
       "    .dataframe tbody tr th {\n",
       "        vertical-align: top;\n",
       "    }\n",
       "</style>\n",
       "<table border=\"1\" class=\"dataframe\">\n",
       "  <thead>\n",
       "    <tr style=\"text-align: right;\">\n",
       "      <th></th>\n",
       "      <th>Date</th>\n",
       "      <th>Price</th>\n",
       "      <th>Sentiment</th>\n",
       "    </tr>\n",
       "  </thead>\n",
       "  <tbody>\n",
       "    <tr>\n",
       "      <th>0</th>\n",
       "      <td>2016-11-30</td>\n",
       "      <td>742.696762</td>\n",
       "      <td>0</td>\n",
       "    </tr>\n",
       "    <tr>\n",
       "      <th>1</th>\n",
       "      <td>2016-12-01</td>\n",
       "      <td>752.246125</td>\n",
       "      <td>1</td>\n",
       "    </tr>\n",
       "    <tr>\n",
       "      <th>2</th>\n",
       "      <td>2016-12-02</td>\n",
       "      <td>772.437250</td>\n",
       "      <td>1</td>\n",
       "    </tr>\n",
       "    <tr>\n",
       "      <th>3</th>\n",
       "      <td>2016-12-03</td>\n",
       "      <td>764.339625</td>\n",
       "      <td>0</td>\n",
       "    </tr>\n",
       "    <tr>\n",
       "      <th>4</th>\n",
       "      <td>2016-12-04</td>\n",
       "      <td>764.816250</td>\n",
       "      <td>1</td>\n",
       "    </tr>\n",
       "  </tbody>\n",
       "</table>\n",
       "</div>"
      ],
      "text/plain": [
       "         Date       Price  Sentiment\n",
       "0  2016-11-30  742.696762          0\n",
       "1  2016-12-01  752.246125          1\n",
       "2  2016-12-02  772.437250          1\n",
       "3  2016-12-03  764.339625          0\n",
       "4  2016-12-04  764.816250          1"
      ]
     },
     "execution_count": 13,
     "metadata": {},
     "output_type": "execute_result"
    }
   ],
   "source": [
    "btc.head()"
   ]
  },
  {
   "cell_type": "code",
   "execution_count": 14,
   "metadata": {
    "collapsed": true
   },
   "outputs": [],
   "source": [
    "temp = record.merge(btc, on='Date', how='inner')"
   ]
  },
  {
   "cell_type": "code",
   "execution_count": 15,
   "metadata": {
    "collapsed": true
   },
   "outputs": [],
   "source": [
    "sent = temp.drop('Price',1)"
   ]
  },
  {
   "cell_type": "code",
   "execution_count": 16,
   "metadata": {},
   "outputs": [
    {
     "data": {
      "text/html": [
       "<div>\n",
       "<style>\n",
       "    .dataframe thead tr:only-child th {\n",
       "        text-align: right;\n",
       "    }\n",
       "\n",
       "    .dataframe thead th {\n",
       "        text-align: left;\n",
       "    }\n",
       "\n",
       "    .dataframe tbody tr th {\n",
       "        vertical-align: top;\n",
       "    }\n",
       "</style>\n",
       "<table border=\"1\" class=\"dataframe\">\n",
       "  <thead>\n",
       "    <tr style=\"text-align: right;\">\n",
       "      <th></th>\n",
       "      <th>Date</th>\n",
       "      <th>Post</th>\n",
       "      <th>Sentiment</th>\n",
       "    </tr>\n",
       "  </thead>\n",
       "  <tbody>\n",
       "    <tr>\n",
       "      <th>0</th>\n",
       "      <td>2017-11-29</td>\n",
       "      <td>#bear or #Bulls ??? #bitcoinATM #miners #btc ...</td>\n",
       "      <td>0</td>\n",
       "    </tr>\n",
       "    <tr>\n",
       "      <th>1</th>\n",
       "      <td>2017-11-29</td>\n",
       "      <td>#bitcoinprice $9K not $12K #bitcoinATM #miner...</td>\n",
       "      <td>0</td>\n",
       "    </tr>\n",
       "    <tr>\n",
       "      <th>2</th>\n",
       "      <td>2017-11-29</td>\n",
       "      <td>#bitcoinprice $9K not $12K #bitcoinATM #miner...</td>\n",
       "      <td>0</td>\n",
       "    </tr>\n",
       "    <tr>\n",
       "      <th>3</th>\n",
       "      <td>2017-11-29</td>\n",
       "      <td>#bitcoinprice $9K not $12K #bitcoinATM #miner...</td>\n",
       "      <td>0</td>\n",
       "    </tr>\n",
       "    <tr>\n",
       "      <th>4</th>\n",
       "      <td>2017-11-29</td>\n",
       "      <td>If $BTC is outlawed, then call me an outlaw. ...</td>\n",
       "      <td>0</td>\n",
       "    </tr>\n",
       "  </tbody>\n",
       "</table>\n",
       "</div>"
      ],
      "text/plain": [
       "         Date                                               Post  Sentiment\n",
       "0  2017-11-29   #bear or #Bulls ??? #bitcoinATM #miners #btc ...          0\n",
       "1  2017-11-29   #bitcoinprice $9K not $12K #bitcoinATM #miner...          0\n",
       "2  2017-11-29   #bitcoinprice $9K not $12K #bitcoinATM #miner...          0\n",
       "3  2017-11-29   #bitcoinprice $9K not $12K #bitcoinATM #miner...          0\n",
       "4  2017-11-29   If $BTC is outlawed, then call me an outlaw. ...          0"
      ]
     },
     "execution_count": 16,
     "metadata": {},
     "output_type": "execute_result"
    }
   ],
   "source": [
    "sent.head()"
   ]
  },
  {
   "cell_type": "code",
   "execution_count": 17,
   "metadata": {},
   "outputs": [
    {
     "data": {
      "text/plain": [
       "(2319, 3)"
      ]
     },
     "execution_count": 17,
     "metadata": {},
     "output_type": "execute_result"
    }
   ],
   "source": [
    "sent.shape"
   ]
  },
  {
   "cell_type": "code",
   "execution_count": 18,
   "metadata": {},
   "outputs": [
    {
     "name": "stdout",
     "output_type": "stream",
     "text": [
      "1    1360\n",
      "0     959\n",
      "Name: Sentiment, dtype: int64\n"
     ]
    },
    {
     "data": {
      "image/png": "[encoded data removed]",
      "text/plain": [
       "<matplotlib.figure.Figure at 0x17918fa0438>"
      ]
     },
     "metadata": {},
     "output_type": "display_data"
    }
   ],
   "source": [
    "print(sent.Sentiment.value_counts())\n",
    "sent.Sentiment.hist(); "
   ]
  },
  {
   "cell_type": "code",
   "execution_count": 302,
   "metadata": {},
   "outputs": [
    {
     "name": "stdout",
     "output_type": "stream",
     "text": [
      "Average character length of the posts are:\n",
      "240.93616127677447\n"
     ]
    }
   ],
   "source": [
    "#Apply length function to the review column\n",
    "lengths = sent.Post.apply(len)\n",
    "\n",
    "print('Average character length of the posts are:')\n",
    "print (np.mean(lengths))"
   ]
  },
  {
   "cell_type": "markdown",
   "metadata": {},
   "source": [
    "# NLP"
   ]
  },
  {
   "cell_type": "code",
   "execution_count": 19,
   "metadata": {
    "collapsed": true
   },
   "outputs": [],
   "source": [
    "import nltk\n",
    "#nltk.download()"
   ]
  },
  {
   "cell_type": "code",
   "execution_count": 20,
   "metadata": {
    "collapsed": true
   },
   "outputs": [],
   "source": [
    "from nltk.tokenize import sent_tokenize\n",
    "from nltk.stem import PorterStemmer\n",
    "from nltk.tag import pos_tag\n",
    "from nltk.corpus import stopwords\n",
    "from nltk.corpus import wordnet\n",
    "from nltk.stem import WordNetLemmatizer\n",
    "\n",
    "eng = stopwords.words('English')"
   ]
  },
  {
   "cell_type": "code",
   "execution_count": 21,
   "metadata": {},
   "outputs": [
    {
     "name": "stdout",
     "output_type": "stream",
     "text": [
      " #bear or #Bulls ??? #bitcoinATM #miners #btc #eth #ltc #BTG #Ethereum #cryptocurrency #btc #bitcointrade #mining #blockchain #Crypto #ltc #BitcoinGold #BitcoinCash #nanobank #ToTheMoon #trade #cryptoexchange #hold #HODL #altcoin #dash #bitcoinprice #bitofhumor #segwit2x \n"
     ]
    }
   ],
   "source": [
    "test_post = sent['Post'][0]# the review used for initial analysis\n",
    "print(test_post)"
   ]
  },
  {
   "cell_type": "code",
   "execution_count": 22,
   "metadata": {},
   "outputs": [
    {
     "name": "stdout",
     "output_type": "stream",
     "text": [
      "2\n"
     ]
    },
    {
     "data": {
      "text/plain": [
       "[' #bear or #Bulls ???',\n",
       " '#bitcoinATM #miners #btc #eth #ltc #BTG #Ethereum #cryptocurrency #btc #bitcointrade #mining #blockchain #Crypto #ltc #BitcoinGold #BitcoinCash #nanobank #ToTheMoon #trade #cryptoexchange #hold #HODL #altcoin #dash #bitcoinprice #bitofhumor #segwit2x']"
      ]
     },
     "execution_count": 22,
     "metadata": {},
     "output_type": "execute_result"
    }
   ],
   "source": [
    "print(len(sent_tokenize(test_post)))\n",
    "sent_tokenize(test_post) # doesn't really split all sentences"
   ]
  },
  {
   "cell_type": "code",
   "execution_count": 23,
   "metadata": {},
   "outputs": [
    {
     "name": "stdout",
     "output_type": "stream",
     "text": [
      "2\n",
      "\n",
      " #bear or #Bulls ???\n",
      "\n",
      "#bitcoinATM #miners #btc #eth #ltc #BTG #Ethereum #cryptocurrency #btc #bitcointrade #mining #blockchain #Crypto #ltc #BitcoinGold #BitcoinCash #nanobank #ToTheMoon #trade #cryptoexchange #hold #HODL #altcoin #dash #bitcoinprice #bitofhumor #segwit2x\n",
      "\n"
     ]
    }
   ],
   "source": [
    "# Check if it does a better job if we add space after every period\n",
    "test_post = test_post.replace('.','. ')\n",
    "\n",
    "print(len(sent_tokenize(test_post)), end='\\n\\n') # number of sentences\n",
    "\n",
    "# print all sentences on a new line\n",
    "for sent in sent_tokenize(test_post):\n",
    "    print(sent, end='\\n\\n')"
   ]
  },
  {
   "cell_type": "code",
   "execution_count": 24,
   "metadata": {},
   "outputs": [
    {
     "name": "stdout",
     "output_type": "stream",
     "text": [
      "  bear or  Bulls      bitcoinATM  miners  btc  eth  ltc  BTG  Ethereum  cryptocurrency  btc  bitcointrade  mining  blockchain  Crypto  ltc  BitcoinGold  BitcoinCash  nanobank  ToTheMoon  trade  cryptoexchange  hold  HODL  altcoin  dash  bitcoinprice  bitofhumor  segwit x \n"
     ]
    }
   ],
   "source": [
    "test_post = re.sub('[^a-zA-Z]',' ',test_post)\n",
    "print(test_post) # remove special character"
   ]
  },
  {
   "cell_type": "code",
   "execution_count": 25,
   "metadata": {
    "collapsed": true
   },
   "outputs": [],
   "source": [
    "test_post = test_post.lower()"
   ]
  },
  {
   "cell_type": "code",
   "execution_count": 26,
   "metadata": {},
   "outputs": [
    {
     "data": {
      "text/plain": [
       "'  bear or  bulls      bitcoinatm  miners  btc  eth  ltc  btg  ethereum  cryptocurrency  btc  bitcointrade  mining  blockchain  crypto  ltc  bitcoingold  bitcoincash  nanobank  tothemoon  trade  cryptoexchange  hold  hodl  altcoin  dash  bitcoinprice  bitofhumor  segwit x '"
      ]
     },
     "execution_count": 26,
     "metadata": {},
     "output_type": "execute_result"
    }
   ],
   "source": [
    "test_post"
   ]
  },
  {
   "cell_type": "code",
   "execution_count": 27,
   "metadata": {},
   "outputs": [
    {
     "name": "stdout",
     "output_type": "stream",
     "text": [
      "['bear', 'or', 'bulls', 'bitcoinatm', 'miners', 'btc', 'eth', 'ltc', 'btg', 'ethereum']\n",
      "31\n"
     ]
    }
   ],
   "source": [
    "test_post_words = test_post.split()\n",
    "print(test_post_words[:10]) # tokenize and lower case\n",
    "print(len(test_post_words))"
   ]
  },
  {
   "cell_type": "code",
   "execution_count": 28,
   "metadata": {},
   "outputs": [
    {
     "name": "stdout",
     "output_type": "stream",
     "text": [
      "bear or bull bitcoinatm miner btc eth ltc btg ethereum cryptocurr btc bitcointrad mine blockchain crypto ltc bitcoingold bitcoincash nanobank tothemoon trade cryptoexchang hold hodl altcoin dash bitcoinpric bitofhumor segwit x\n"
     ]
    }
   ],
   "source": [
    "ps = PorterStemmer() #initialize Porter Stemmer object\n",
    "\n",
    "ps_stems = []\n",
    "for w in test_post_words:\n",
    "    ps_stems.append(ps.stem(w))\n",
    "\n",
    "print(' '.join(ps_stems)) # add all the stemmed words to one string"
   ]
  },
  {
   "cell_type": "code",
   "execution_count": 29,
   "metadata": {},
   "outputs": [
    {
     "data": {
      "text/plain": [
       "[('bear', 'NN'),\n",
       " ('or', 'CC'),\n",
       " ('bulls', 'NNS'),\n",
       " ('bitcoinatm', 'JJ'),\n",
       " ('miners', 'NNS'),\n",
       " ('btc', 'VBP'),\n",
       " ('eth', 'JJ'),\n",
       " ('ltc', 'NN'),\n",
       " ('btg', 'NN'),\n",
       " ('ethereum', 'NN')]"
      ]
     },
     "execution_count": 29,
     "metadata": {},
     "output_type": "execute_result"
    }
   ],
   "source": [
    "#parts of speech tagging\n",
    "\n",
    "token_tag = pos_tag(test_post_words)\n",
    "token_tag[:10]"
   ]
  },
  {
   "cell_type": "code",
   "execution_count": 30,
   "metadata": {
    "collapsed": true
   },
   "outputs": [],
   "source": [
    "def get_wordnet_pos(treebank_tag):\n",
    "\n",
    "    if treebank_tag.startswith('J'):\n",
    "        return wordnet.ADJ\n",
    "    elif treebank_tag.startswith('V'):\n",
    "        return wordnet.VERB\n",
    "    elif treebank_tag.startswith('N'):\n",
    "        return wordnet.NOUN\n",
    "    elif treebank_tag.startswith('R'):\n",
    "        return wordnet.ADV\n",
    "    else:\n",
    "        return 'n'"
   ]
  },
  {
   "cell_type": "code",
   "execution_count": 31,
   "metadata": {},
   "outputs": [
    {
     "name": "stdout",
     "output_type": "stream",
     "text": [
      "bear or bull bitcoinatm miner btc eth ltc btg ethereum cryptocurrency btc bitcointrade mining blockchain crypto ltc bitcoingold bitcoincash nanobank tothemoon trade cryptoexchange hold hodl altcoin dash bitcoinprice bitofhumor segwit x\n"
     ]
    }
   ],
   "source": [
    "#from nltk.stem import WordNetLemmatizer\n",
    "\n",
    "\n",
    "wnl = WordNetLemmatizer()\n",
    "\n",
    "wnl_stems = []\n",
    "for pair in token_tag:\n",
    "    res = wnl.lemmatize(pair[0],pos=get_wordnet_pos(pair[1]))\n",
    "    wnl_stems.append(res)\n",
    "\n",
    "print(' '.join(wnl_stems))"
   ]
  },
  {
   "cell_type": "code",
   "execution_count": 32,
   "metadata": {
    "collapsed": true
   },
   "outputs": [],
   "source": [
    "def post_cleaner(post):\n",
    "    \n",
    "    #1. Use regex to find emoticons\n",
    "    emoticons = re.findall('(?::|;|=)(?:-)?(?:\\)|\\(|D|P)', post)\n",
    "    \n",
    "    #2. Remove punctuation\n",
    "    post = re.sub(\"[^a-zA-Z]\", \" \",post)\n",
    "    \n",
    "    #3. Tokenize into words (all lower case)\n",
    "    post = post.lower().split()\n",
    "    \n",
    "    #4. Remove stopwords\n",
    "    eng_stopwords = set(stopwords.words(\"english\"))\n",
    "    post = [w for w in post if not w in eng_stopwords]\n",
    "    \n",
    "    #5. Join the review to one sentence\n",
    "    post = ' '.join(post+emoticons)\n",
    "    # add emoticons to the end\n",
    "\n",
    "    return(post)"
   ]
  },
  {
   "cell_type": "code",
   "execution_count": 33,
   "metadata": {},
   "outputs": [
    {
     "ename": "TypeError",
     "evalue": "string indices must be integers",
     "output_type": "error",
     "traceback": [
      "\u001b[1;31m---------------------------------------------------------------------------\u001b[0m",
      "\u001b[1;31mTypeError\u001b[0m                                 Traceback (most recent call last)",
      "\u001b[1;32m<timed exec>\u001b[0m in \u001b[0;36m<module>\u001b[1;34m()\u001b[0m\n",
      "\u001b[1;31mTypeError\u001b[0m: string indices must be integers"
     ]
    }
   ],
   "source": [
    "%%time\n",
    "\n",
    "num_posts = len(sent['Post'])\n",
    "\n",
    "post_clean_original = []\n",
    "\n",
    "for i in range(0,num_posts):\n",
    "    if( (i+1)%500 == 0 ):\n",
    "        # print progress\n",
    "        print(\"Done with %d posts\" %(i+1)) \n",
    "    post_clean_original.append(post_cleaner(record['Post'][i]))"
   ]
  },
  {
   "cell_type": "code",
   "execution_count": 34,
   "metadata": {},
   "outputs": [
    {
     "ename": "NameError",
     "evalue": "name 'num_posts' is not defined",
     "output_type": "error",
     "traceback": [
      "\u001b[1;31m---------------------------------------------------------------------------\u001b[0m",
      "\u001b[1;31mNameError\u001b[0m                                 Traceback (most recent call last)",
      "\u001b[1;32m<timed exec>\u001b[0m in \u001b[0;36m<module>\u001b[1;34m()\u001b[0m\n",
      "\u001b[1;31mNameError\u001b[0m: name 'num_posts' is not defined"
     ]
    }
   ],
   "source": [
    "%%time\n",
    "# Lemmatizer\n",
    "\n",
    "post_clean_wnl = []\n",
    "\n",
    "wnl = WordNetLemmatizer()\n",
    "\n",
    "for i in range(0,num_posts):\n",
    "    if( (i+1)%500 == 0 ):\n",
    "        # print progress\n",
    "        print(\"Done with %d posts\" %(i+1)) \n",
    "    \n",
    "    wnl_stems = []\n",
    "    token_tag = pos_tag(post_clean_original[i].split())\n",
    "    for pair in token_tag:\n",
    "        res = wnl.lemmatize(pair[0],pos=get_wordnet_pos(pair[1]))\n",
    "        wnl_stems.append(res)\n",
    "\n",
    "    post_clean_wnl.append(' '.join(wnl_stems))"
   ]
  },
  {
   "cell_type": "code",
   "execution_count": 333,
   "metadata": {
    "collapsed": true
   },
   "outputs": [],
   "source": [
    "from sklearn.ensemble import RandomForestClassifier\n",
    "from sklearn.feature_extraction.text import CountVectorizer\n",
    "from sklearn import metrics\n",
    "from sklearn.model_selection import train_test_split\n",
    "\n",
    "# put everything together in a function\n",
    "\n",
    "def predict_sentiment(cleaned_posts, y=sent[\"Sentiment\"]):\n",
    "\n",
    "    print(\"Creating the bag of words model..\\n\")\n",
    "    # CountVectorizer\" is scikit-learn's bag of words tool, here we show more keywords \n",
    "    vectorizer = CountVectorizer(analyzer = \"word\",   \\\n",
    "                                 tokenizer = None,    \\\n",
    "                                 preprocessor = None, \\\n",
    "                                 stop_words = None,   \\\n",
    "                                 max_features = 2000) \n",
    "    \n",
    "    X_train, X_test, y_train, y_test = train_test_split(\\\n",
    "    cleaned_posts, y, random_state=0, test_size=0.2)\n",
    "\n",
    "    # Then we use fit_transform() to fit the model / learn the vocabulary,\n",
    "    # then transform the data into feature vectors.\n",
    "    # The input should be a list of strings. .toarraty() converts to a numpy array\n",
    "    \n",
    "    train_bag = vectorizer.fit_transform(X_train).toarray()\n",
    "    test_bag = vectorizer.transform(X_test).toarray()\n",
    "\n",
    "    # You can extract the vocabulary created by CountVectorizer\n",
    "    # by running print(vectorizer.get_feature_names())\n",
    "\n",
    "\n",
    "    print(\"Training the random forest classifier..\\n\")\n",
    "    # Initialize a Random Forest classifier with 75 trees\n",
    "    forest = RandomForestClassifier(n_estimators = 50) \n",
    "\n",
    "    # Fit the forest to the training set, using the bag of words as \n",
    "    # features and the sentiment labels as the target variable\n",
    "    forest = forest.fit(train_bag, y_train)\n",
    "\n",
    "\n",
    "    train_predictions = forest.predict(train_bag)\n",
    "    test_predictions = forest.predict(test_bag)\n",
    "    \n",
    "    train_acc = metrics.accuracy_score(y_train, train_predictions)\n",
    "    valid_acc = metrics.accuracy_score(y_test, test_predictions)\n",
    "    print(\"The training accuracy is: \", train_acc, \"\\n\", \"The validation accuracy is: \", valid_acc)\n",
    "    print()\n",
    "    print()\n",
    "    #Extract feature importnace\n",
    "    print('TOP TEN IMPORTANT FEATURES:')\n",
    "    importances = forest.feature_importances_\n",
    "    indices = np.argsort(importances)[::-1]\n",
    "    top_10 = indices[:10]\n",
    "    print([vectorizer.get_feature_names()[ind] for ind in top_10])"
   ]
  },
  {
   "cell_type": "code",
   "execution_count": 335,
   "metadata": {},
   "outputs": [
    {
     "name": "stdout",
     "output_type": "stream",
     "text": [
      "Creating the bag of words model..\n",
      "\n",
      "Training the random forest classifier..\n",
      "\n",
      "The training accuracy is:  0.983718487395 \n",
      " The validation accuracy is:  0.607966457023\n",
      "\n",
      "\n",
      "TOP TEN IMPORTANT FEATURES:\n",
      "['bitcoin', 'btc', 'cryptocurrency', 'investfeed', 'support', 'eth', 'crypto', 'ift', 'http', 'cryptocurrencies']\n"
     ]
    }
   ],
   "source": [
    "predict_sentiment(post_clean_original) #Accuracy measure with original sentences"
   ]
  },
  {
   "cell_type": "code",
   "execution_count": 336,
   "metadata": {},
   "outputs": [
    {
     "name": "stdout",
     "output_type": "stream",
     "text": [
      "Creating the bag of words model..\n",
      "\n",
      "Training the random forest classifier..\n",
      "\n",
      "The training accuracy is:  0.984243697479 \n",
      " The validation accuracy is:  0.574423480084\n",
      "\n",
      "\n",
      "TOP TEN IMPORTANT FEATURES:\n",
      "['bitcoin', 'cryptocurrency', 'btc', 'investfeed', 'support', 'eth', 'cryptocurrencies', 'crypto', 'http', 'ift']\n"
     ]
    }
   ],
   "source": [
    "predict_sentiment(post_clean_wnl) #Lemmatized sentences lead to lower accuracy"
   ]
  },
  {
   "cell_type": "code",
   "execution_count": null,
   "metadata": {
    "collapsed": true
   },
   "outputs": [],
   "source": [
    "lists=record['Post'].tolist()"
   ]
  }
 ],
 "metadata": {
  "kernelspec": {
   "display_name": "Python 3",
   "language": "python",
   "name": "python3"
  },
  "language_info": {
   "codemirror_mode": {
    "name": "ipython",
    "version": 3
   },
   "file_extension": ".py",
   "mimetype": "text/x-python",
   "name": "python",
   "nbconvert_exporter": "python",
   "pygments_lexer": "ipython3",
   "version": "3.6.1"
  }
 },
 "nbformat": 4,
 "nbformat_minor": 2
}
